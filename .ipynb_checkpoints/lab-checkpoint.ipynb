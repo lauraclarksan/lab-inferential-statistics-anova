{
 "cells": [
  {
   "cell_type": "markdown",
   "id": "9dda5510-d428-4eaf-a1dc-94c27954c8f0",
   "metadata": {},
   "source": [
    "## **Part 1**\n",
    "In this activity, we will look at another example. Your task is to understand the problem and write down all the steps to set up ANOVA. After the next lesson, we will ask you to solve this problem using Python. Here are the steps that you would need to work on: \n",
    "- Null hypothesis\n",
    "- Alternate hypothesis\n",
    "- Level of significance\n",
    "- Test statistic\n",
    "- P-value\n",
    "- F table\n",
    "\n",
    "**Context**\n",
    "\n",
    "Suppose you are working as an analyst in a microprocessor chip manufacturing plant. You have been given the task of analyzing a plasma etching process with respect to changing Power (in Watts) of the plasma beam. Data was collected and provided to you to conduct statistical analysis and check if changing the power of the plasma beam has any effect on the etching rate by the machine. You will conduct ANOVA and check if there is any difference in the mean etching rate for different levels of power. You can find the data anova_lab_data.xlsx file in the files_for_lab folder\n",
    "\n",
    "- State the null hypothesis\n",
    "- State the alternate hypothesis\n",
    "- What is the significance level\n",
    "- What are the degrees of freedom of model, error terms, and total DoF\n",
    "- Data was collected randomly and provided to you in the table as shown: link to the image - Data\n",
    "\n",
    "## **Part 2**\n",
    "In this section, use Python to conduct ANOVA.\n",
    "What conclusions can you draw from the experiment and why?"
   ]
  },
  {
   "cell_type": "raw",
   "id": "f6d44bd5-342e-4d39-ad01-5079279279a5",
   "metadata": {},
   "source": []
  },
  {
   "cell_type": "markdown",
   "id": "aa99ed33-f389-4883-89c0-d8d18f5147a2",
   "metadata": {},
   "source": [
    "**Part 1**\n",
    "\n",
    "**H0**\n",
    "\n",
    "H0: μ1 = μ2 = μ3 (where μ1 = 160W, μ2 = 180W, μ3 = 200W)\n",
    "\n",
    "**Ha**\n",
    "\n",
    "Ha: At least one μ is different from the others\n",
    "\n",
    "**α** \n",
    "\n",
    "α: The significance level is 0.05\n",
    "\n",
    "**Test Statistic:** \n",
    "\n",
    "For ANOVA, the test statistic is the F-statistic, which follows an F-distribution. It compares the variance between group means to the variance within the groups.\n",
    "\n",
    "**P-value:** \n",
    "\n",
    "The p-value is the probability of observing the data, or more extreme data, if the null hypothesis is true. A small p-value (typically less than the chosen significance level) indicates strong evidence against the null hypothesis.\n",
    "\n",
    "**F Table:** \n",
    "\n",
    "The F-distribution table is used to find critical values of the F-statistic corresponding to a given significance level and degrees of freedom.\n",
    "\n",
    "**Degrees of Freedom:**\n",
    "\n",
    "- Degrees of Freedom of Model (Between Groups): Number of groups minus one (k - 1), where k is the number of groups (power levels).\n",
    "- Degrees of Freedom of Error (Within Groups): Total number of observations minus the number of groups (N - k), where N is the total number of observations.\n",
    "\n",
    "Total Degrees of Freedom: N - 1\n",
    "\n",
    "For the given data, we have 3 power levels (k = 3) and 15 observations in total, N = 15.\n",
    "\n"
   ]
  },
  {
   "cell_type": "markdown",
   "id": "3220768b-2511-4ec5-959a-e980722c1a56",
   "metadata": {},
   "source": [
    "**Part 2**"
   ]
  },
  {
   "cell_type": "code",
   "execution_count": 27,
   "id": "49696ae8-d7e0-4988-a37b-a8309cfdd10b",
   "metadata": {},
   "outputs": [],
   "source": [
    "import pandas as pd\n",
    "from scipy.stats import f_oneway\n",
    "\n",
    "data = {\"Power\": [\"160 W\", \"180 W\", \"200 W\"] * 5, \"Etching Rate\": [5.43, 6.24, 8.79, 5.71, 6.71, 9.20, 6.22, 5.98, 7.90, 6.01, 5.66, 8.15, 5.59, 6.60, 7.55]}\n",
    "\n",
    "df = pd.DataFrame(data)"
   ]
  },
  {
   "cell_type": "code",
   "execution_count": 28,
   "id": "e694484c-6db9-4d94-a38e-aa2ff3a65a63",
   "metadata": {},
   "outputs": [
    {
     "data": {
      "text/html": [
       "<div>\n",
       "<style scoped>\n",
       "    .dataframe tbody tr th:only-of-type {\n",
       "        vertical-align: middle;\n",
       "    }\n",
       "\n",
       "    .dataframe tbody tr th {\n",
       "        vertical-align: top;\n",
       "    }\n",
       "\n",
       "    .dataframe thead th {\n",
       "        text-align: right;\n",
       "    }\n",
       "</style>\n",
       "<table border=\"1\" class=\"dataframe\">\n",
       "  <thead>\n",
       "    <tr style=\"text-align: right;\">\n",
       "      <th></th>\n",
       "      <th>Power</th>\n",
       "      <th>Etching Rate</th>\n",
       "    </tr>\n",
       "  </thead>\n",
       "  <tbody>\n",
       "    <tr>\n",
       "      <th>0</th>\n",
       "      <td>160 W</td>\n",
       "      <td>5.43</td>\n",
       "    </tr>\n",
       "    <tr>\n",
       "      <th>1</th>\n",
       "      <td>180 W</td>\n",
       "      <td>6.24</td>\n",
       "    </tr>\n",
       "    <tr>\n",
       "      <th>2</th>\n",
       "      <td>200 W</td>\n",
       "      <td>8.79</td>\n",
       "    </tr>\n",
       "    <tr>\n",
       "      <th>3</th>\n",
       "      <td>160 W</td>\n",
       "      <td>5.71</td>\n",
       "    </tr>\n",
       "    <tr>\n",
       "      <th>4</th>\n",
       "      <td>180 W</td>\n",
       "      <td>6.71</td>\n",
       "    </tr>\n",
       "    <tr>\n",
       "      <th>5</th>\n",
       "      <td>200 W</td>\n",
       "      <td>9.20</td>\n",
       "    </tr>\n",
       "    <tr>\n",
       "      <th>6</th>\n",
       "      <td>160 W</td>\n",
       "      <td>6.22</td>\n",
       "    </tr>\n",
       "    <tr>\n",
       "      <th>7</th>\n",
       "      <td>180 W</td>\n",
       "      <td>5.98</td>\n",
       "    </tr>\n",
       "    <tr>\n",
       "      <th>8</th>\n",
       "      <td>200 W</td>\n",
       "      <td>7.90</td>\n",
       "    </tr>\n",
       "    <tr>\n",
       "      <th>9</th>\n",
       "      <td>160 W</td>\n",
       "      <td>6.01</td>\n",
       "    </tr>\n",
       "    <tr>\n",
       "      <th>10</th>\n",
       "      <td>180 W</td>\n",
       "      <td>5.66</td>\n",
       "    </tr>\n",
       "    <tr>\n",
       "      <th>11</th>\n",
       "      <td>200 W</td>\n",
       "      <td>8.15</td>\n",
       "    </tr>\n",
       "    <tr>\n",
       "      <th>12</th>\n",
       "      <td>160 W</td>\n",
       "      <td>5.59</td>\n",
       "    </tr>\n",
       "    <tr>\n",
       "      <th>13</th>\n",
       "      <td>180 W</td>\n",
       "      <td>6.60</td>\n",
       "    </tr>\n",
       "    <tr>\n",
       "      <th>14</th>\n",
       "      <td>200 W</td>\n",
       "      <td>7.55</td>\n",
       "    </tr>\n",
       "  </tbody>\n",
       "</table>\n",
       "</div>"
      ],
      "text/plain": [
       "    Power  Etching Rate\n",
       "0   160 W          5.43\n",
       "1   180 W          6.24\n",
       "2   200 W          8.79\n",
       "3   160 W          5.71\n",
       "4   180 W          6.71\n",
       "5   200 W          9.20\n",
       "6   160 W          6.22\n",
       "7   180 W          5.98\n",
       "8   200 W          7.90\n",
       "9   160 W          6.01\n",
       "10  180 W          5.66\n",
       "11  200 W          8.15\n",
       "12  160 W          5.59\n",
       "13  180 W          6.60\n",
       "14  200 W          7.55"
      ]
     },
     "execution_count": 28,
     "metadata": {},
     "output_type": "execute_result"
    }
   ],
   "source": [
    "df"
   ]
  },
  {
   "cell_type": "code",
   "execution_count": 29,
   "id": "3da2ac0f-c14e-4e43-a2b7-caf414ab8647",
   "metadata": {},
   "outputs": [
    {
     "name": "stdout",
     "output_type": "stream",
     "text": [
      "ANOVA Results:\n",
      "F-statistic: 36.87895470100505\n",
      "p-value: 7.506584272358903e-06\n"
     ]
    }
   ],
   "source": [
    "anova_result = f_oneway(\n",
    "    df[df['Power'] == '160 W']['Etching Rate'],\n",
    "    df[df['Power'] == '180 W']['Etching Rate'],\n",
    "    df[df['Power'] == '200 W']['Etching Rate'])\n",
    "\n",
    "print(\"ANOVA Results:\")\n",
    "print(\"F-statistic:\", anova_result.statistic)\n",
    "print(\"p-value:\", anova_result.pvalue)"
   ]
  },
  {
   "cell_type": "markdown",
   "id": "3eb42cb0-b6eb-42b1-baa3-ab1d8ed8750f",
   "metadata": {},
   "source": [
    "**Conclusion:** not enough evidence to conclude that there is a significant difference in etching rates among the power levels"
   ]
  },
  {
   "cell_type": "code",
   "execution_count": null,
   "id": "347ce1f9-5db4-4681-bee5-ad4599318e27",
   "metadata": {},
   "outputs": [],
   "source": []
  }
 ],
 "metadata": {
  "kernelspec": {
   "display_name": "Python 3 (ipykernel)",
   "language": "python",
   "name": "python3"
  },
  "language_info": {
   "codemirror_mode": {
    "name": "ipython",
    "version": 3
   },
   "file_extension": ".py",
   "mimetype": "text/x-python",
   "name": "python",
   "nbconvert_exporter": "python",
   "pygments_lexer": "ipython3",
   "version": "3.11.7"
  }
 },
 "nbformat": 4,
 "nbformat_minor": 5
}
